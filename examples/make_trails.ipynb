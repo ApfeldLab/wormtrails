{
 "cells": [
  {
   "cell_type": "code",
   "execution_count": null,
   "id": "6126be6e-18e8-4ed6-9a3e-4130b11f5de0",
   "metadata": {},
   "outputs": [],
   "source": [
    "import wormtrails as wts\n",
    "import cv2\n",
    "import numpy as np"
   ]
  },
  {
   "cell_type": "code",
   "execution_count": null,
   "id": "df01d23d-15a6-494f-8003-9998ff03e3c3",
   "metadata": {},
   "outputs": [],
   "source": [
    "# Load the raw video scan\n",
    "video_array = wts.read_video_file(\"./chemotaxis_control.mp4\")"
   ]
  },
  {
   "cell_type": "code",
   "execution_count": null,
   "id": "1b4b109d",
   "metadata": {},
   "outputs": [],
   "source": [
    "# Preprocessing of the scan\n",
    "vignetting_corrected_array = wts.correct_vignetting(video_array)\n",
    "del video_array\n",
    "\n",
    "average_subtracted_array = wts.subtract_average(vignetting_corrected_array, average_start=0, average_end=-1)\n",
    "del vignetting_corrected_array"
   ]
  },
  {
   "cell_type": "code",
   "execution_count": null,
   "id": "2ff1c8a5",
   "metadata": {},
   "outputs": [],
   "source": [
    "# Preview your visualization parameters\n",
    "wts.show_time_encoding(average_subtracted_array, window=1, scale_factor=30, offset=-30, light_background=True)"
   ]
  },
  {
   "cell_type": "code",
   "execution_count": null,
   "id": "7d0277c1",
   "metadata": {},
   "outputs": [],
   "source": [
    "# Create and save your visualization\n",
    "# In this case, an early and late timepoint are shown overlaid in different colors\n",
    "early = wts.create_time_encoded_frame(average_subtracted_array, colormap=np.array([[255,0,0]]), window=20, start_time=60*10, scale_factor=30, offset=-30, light_background=True)\n",
    "late = wts.create_time_encoded_frame(average_subtracted_array, colormap=np.array([[0,0,255]]), window=20, start_time=60*30, scale_factor=30, offset=-30, light_background=True)\n",
    "early_and_late = np.min(np.array([early, late]), axis=0)\n",
    "wts.show_frame(early_and_late)\n",
    "cv2.imwrite(\"./early_and_late.png\", early_and_late)"
   ]
  },
  {
   "cell_type": "code",
   "execution_count": null,
   "id": "21ea0a13",
   "metadata": {},
   "outputs": [],
   "source": [
    "# In this example, one timepoint is shown with fading trails\n",
    "t_10_minutes = wts.create_time_encoded_frame(average_subtracted_array, colormap=wts.white_to_black, window=20, start_time=60*10, scale_factor=30, offset=-30, light_background=True)\n",
    "wts.show_frame(t_10_minutes)\n",
    "cv2.imwrite(\"./t_10_minutes.png\", t_10_minutes)"
   ]
  },
  {
   "cell_type": "code",
   "execution_count": null,
   "id": "091438f2-a57e-4425-a8d9-7cb73b827d1a",
   "metadata": {},
   "outputs": [],
   "source": [
    "# This example creates a video instead of a single frame\n",
    "# Processing may take up to 15 minutes\n",
    "time_encoded_array = wts.create_time_encoded_array(average_subtracted_array, colormap=wts.white_to_black, window=20, scale_factor=30, offset=-30)"
   ]
  },
  {
   "cell_type": "code",
   "execution_count": null,
   "id": "d9064725",
   "metadata": {},
   "outputs": [],
   "source": [
    "# Preview the created video\n",
    "wts.show_video_array(video_array)"
   ]
  },
  {
   "cell_type": "code",
   "execution_count": null,
   "id": "079fae8c-1411-4d7e-a89c-22b4e120ba1d",
   "metadata": {},
   "outputs": [],
   "source": [
    "# Save the video\n",
    "wts.write_mp4(video_array, \"fading_trails.mp4\")"
   ]
  }
 ],
 "metadata": {
  "kernelspec": {
   "display_name": "wormtrails",
   "language": "python",
   "name": "python3"
  },
  "language_info": {
   "codemirror_mode": {
    "name": "ipython",
    "version": 3
   },
   "file_extension": ".py",
   "mimetype": "text/x-python",
   "name": "python",
   "nbconvert_exporter": "python",
   "pygments_lexer": "ipython3",
   "version": "3.14.0"
  }
 },
 "nbformat": 4,
 "nbformat_minor": 5
}
