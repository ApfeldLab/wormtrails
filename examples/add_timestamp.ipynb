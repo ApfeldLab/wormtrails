{
 "cells": [
  {
   "cell_type": "code",
   "execution_count": null,
   "id": "428976f0-4ea8-48db-82e3-33aa2ff89235",
   "metadata": {},
   "outputs": [],
   "source": [
    "import wormtrails as wts\n",
    "import numpy as np"
   ]
  },
  {
   "cell_type": "code",
   "execution_count": null,
   "id": "f6b4af83-7501-45d4-9b8f-42856480ea84",
   "metadata": {},
   "outputs": [],
   "source": [
    "video_array = wts.read_video_file(\"/Users/dante/Desktop/scripts/motionVis/motionVis/600mm_rep2_w20_c40_n60_postVignetteCorrection.avi\")"
   ]
  },
  {
   "cell_type": "code",
   "execution_count": null,
   "id": "07e22975-975a-4323-8cd2-9b12dfd9de5f",
   "metadata": {},
   "outputs": [],
   "source": [
    "video_array = wts.add_timestamp(video_array, black_background=False, font_scale=3, font_thickness=3)"
   ]
  },
  {
   "cell_type": "code",
   "execution_count": null,
   "id": "33717d12-e584-434e-b44b-df513fed7871",
   "metadata": {},
   "outputs": [
    {
     "name": "stdout",
     "output_type": "stream",
     "text": [
      "Video successfully written to /Users/dante/Desktop/scripts/motionVis/motionVis/600mm_rep2_w20_c40_n60_postVignetteCorrection_timestamped.mp4\n"
     ]
    }
   ],
   "source": [
    "wts.write_mp4(video_array, \"/Users/dante/Desktop/scripts/motionVis/motionVis/600mm_rep2_w20_c40_n60_postVignetteCorrection_timestamped.mp4\")"
   ]
  }
 ],
 "metadata": {
  "kernelspec": {
   "display_name": "Python 3 (ipykernel)",
   "language": "python",
   "name": "python3"
  },
  "language_info": {
   "codemirror_mode": {
    "name": "ipython",
    "version": 3
   },
   "file_extension": ".py",
   "mimetype": "text/x-python",
   "name": "python",
   "nbconvert_exporter": "python",
   "pygments_lexer": "ipython3",
   "version": "3.13.5"
  }
 },
 "nbformat": 4,
 "nbformat_minor": 5
}
